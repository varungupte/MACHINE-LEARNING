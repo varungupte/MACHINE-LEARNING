{
 "cells": [
  {
   "cell_type": "code",
   "execution_count": 21,
   "metadata": {},
   "outputs": [],
   "source": [
    "import numpy as np\n",
    "import pandas as pd\n",
    "from sklearn.model_selection import train_test_split \n",
    "from sklearn.metrics import classification_report,confusion_matrix,accuracy_score\n",
    "from sklearn.tree import DecisionTreeClassifier\n",
    "eps = np.finfo(float).eps\n",
    "import matplotlib\n",
    "import matplotlib.pyplot as plt\n",
    "import copy"
   ]
  },
  {
   "cell_type": "code",
   "execution_count": 22,
   "metadata": {},
   "outputs": [],
   "source": [
    "df=pd.read_csv(\"train.csv\")"
   ]
  },
  {
   "cell_type": "code",
   "execution_count": 20,
   "metadata": {},
   "outputs": [],
   "source": [
    "mid_point={}\n",
    "mid_point.clear()\n",
    "class nodestructure:\n",
    "    def __init__(self, value, pos=0, neg=0, left=None, right=None):\n",
    "        self.value=value\n",
    "        self.left=left\n",
    "        self.right=right\n",
    "        self.positive=pos\n",
    "        self.negative=neg"
   ]
  },
  {
   "cell_type": "code",
   "execution_count": 23,
   "metadata": {},
   "outputs": [],
   "source": [
    "left=df['left']\n",
    "df=df.drop(columns=['left'])\n",
    "df = pd.concat([df,pd.get_dummies(df['sales'], prefix='sales')],axis=1)\n",
    "df = pd.concat([df,pd.get_dummies(df['salary'], prefix='salary')],axis=1)\n",
    "df.drop(['sales','salary'],axis=1, inplace=True)\n",
    "df=df.join(left)"
   ]
  },
  {
   "cell_type": "code",
   "execution_count": 25,
   "metadata": {},
   "outputs": [],
   "source": [
    "numericalfeatures = ['number_project','last_evaluation','satisfaction_level','average_montly_hours','time_spend_company']"
   ]
  },
  {
   "cell_type": "code",
   "execution_count": 27,
   "metadata": {},
   "outputs": [],
   "source": [
    "msk = np.random.rand(len(df)) < 0.8\n",
    "train = df[msk]\n",
    "test = df[~msk]"
   ]
  },
  {
   "cell_type": "code",
   "execution_count": 29,
   "metadata": {},
   "outputs": [],
   "source": [
    "def find_entropy(df):\n",
    "    target = df.keys()[-1]   \n",
    "    entropy = 0\n",
    "    values = df[target].unique()\n",
    "    for value in values:\n",
    "        fraction = df[target].value_counts()[value]/(len(df[target])+eps)\n",
    "        entropy += -fraction*np.log2(fraction+eps)\n",
    "    return entropy  "
   ]
  },
  {
   "cell_type": "code",
   "execution_count": 30,
   "metadata": {},
   "outputs": [],
   "source": [
    "def find_entropy_attribute(df,attribute):\n",
    "    target = df.keys()[-1]   \n",
    "    #Will return the unique values present in the target column 'left'\n",
    "    target_variables = df[target].unique() \n",
    "    variables = df[attribute].unique()\n",
    "    entropy2 = 0\n",
    "    for variable in variables:\n",
    "        entropy = 0\n",
    "        for target_variable in target_variables:\n",
    "            num = len(df[attribute][df[attribute]==variable][df[target] ==target_variable])\n",
    "            den = len(df[attribute][df[attribute]==variable])\n",
    "            fraction = num/(den+eps)\n",
    "            entropy += -fraction*np.log2(fraction+eps)\n",
    "        fraction2 =(den)/len(df)\n",
    "        entropy2 += -fraction2*entropy\n",
    "    return abs(entropy2)"
   ]
  },
  {
   "cell_type": "code",
   "execution_count": 31,
   "metadata": {},
   "outputs": [],
   "source": [
    "def get_subtable1(X_train,node,value):\n",
    "    return X_train[X_train[node] < value].reset_index(drop=True)\n",
    "\n",
    "def get_subtable2(X_train,node,value):\n",
    "    return X_train[X_train[node] >= value].reset_index(drop=True)\n",
    "\n",
    "def get_subtable(df,node,value):\n",
    "    return df[df[node] == value].reset_index(drop=True)"
   ]
  },
  {
   "cell_type": "code",
   "execution_count": 32,
   "metadata": {},
   "outputs": [
    {
     "name": "stderr",
     "output_type": "stream",
     "text": [
      "/home/vagupta/anaconda2/lib/python2.7/site-packages/ipykernel_launcher.py:5: SettingWithCopyWarning: \n",
      "A value is trying to be set on a copy of a slice from a DataFrame\n",
      "\n",
      "See the caveats in the documentation: http://pandas.pydata.org/pandas-docs/stable/indexing.html#indexing-view-versus-copy\n",
      "  \"\"\"\n"
     ]
    }
   ],
   "source": [
    "for feature in numericalfeatures:\n",
    "    IGMax=0\n",
    "    midmax=0\n",
    "    prev=None\n",
    "    train.sort_values(feature,inplace=True)\n",
    "    for index,row in train.iterrows():\n",
    "        if prev is not None:\n",
    "            if prev['left']!=row['left']:\n",
    "                mid=(float(prev[feature])+float(row[feature]))/2\n",
    "                subtable1=get_subtable1(train,feature,mid)\n",
    "                subtable2=get_subtable2(train,feature,mid)\n",
    "                firstentropy=0\n",
    "                secondentropy=0\n",
    "                if subtable1.empty:\n",
    "                    firstentropy=0\n",
    "                else:\n",
    "                    frac1=float(len(subtable1))/len(train)\n",
    "                    firstentropy = frac1*find_entropy(subtable1)\n",
    "                if subtable2.empty:\n",
    "                    secondentropy=0\n",
    "                else:\n",
    "                    frac2=float(len(subtable2))/len(train)\n",
    "                    secondentropy = frac2*find_entropy(subtable2)\n",
    "                \n",
    "                entropy1=find_entropy(train)\n",
    "                entropy2=firstentropy+secondentropy\n",
    "                ig=abs(entropy1)-abs(entropy2)\n",
    "                if ig > IGMax:\n",
    "                    IGMax=ig\n",
    "                    midmax=mid\n",
    "\n",
    "        prev=row\n",
    "    mid_point[feature]=midmax\n",
    "#     print mid_point[feature]\n",
    "    for index,row in train.iterrows():\n",
    "        if float(row[feature])>=midmax:\n",
    "            train.at[index,feature]=1\n",
    "        else:\n",
    "            train.at[index,feature]=0"
   ]
  },
  {
   "cell_type": "code",
   "execution_count": 13,
   "metadata": {},
   "outputs": [],
   "source": [
    "def find_winner(df):\n",
    "    Entropy_att = []\n",
    "    IG = []\n",
    "    for key in df.keys()[:-1]:       \n",
    "        IG.append(find_entropy(df)-find_entropy_attribute(df,key))\n",
    "    return df.keys()[:-1][np.argmax(IG)]"
   ]
  },
  {
   "cell_type": "code",
   "execution_count": 42,
   "metadata": {},
   "outputs": [],
   "source": [
    "def buildtree_depth(X_train,depth):\n",
    "    \n",
    "    if len(X_train.columns)==1:  \n",
    "        return \n",
    "    output=X_train.keys()[-1]\n",
    "    bestattr = find_winner(X_train)  \n",
    "    root=nodestructure(bestattr)\n",
    "    outputValue,counts = np.unique(X_train[output],return_counts=True)                        \n",
    "    if len(counts)<=1:   \n",
    "        if outputValue[0]==0:     \n",
    "            root.negative=counts[0]\n",
    "        else:\n",
    "            root.positive=counts[0]   \n",
    "            \n",
    "    else:       \n",
    "        if outputValue[0]==0:\n",
    "            root.negative=counts[0]\n",
    "        else:\n",
    "            root.positive=counts[0]\n",
    "        if outputValue[1]==0:\n",
    "            root.negative=counts[1]\n",
    "        else:\n",
    "            root.positive=counts[1]\n",
    "\n",
    "        if depth==0 : \n",
    "            return root\n",
    "        \n",
    "        attValue=X_train[bestattr].unique() \n",
    "        \n",
    "        for val in attValue:  \n",
    "            subdataframe = get_subtable(X_train,bestattr,val)                  \n",
    "            subdataframe=subdataframe.drop([bestattr],axis=1)\n",
    "            outputValue,counts = np.unique(subdataframe[output],return_counts=True)                        \n",
    "            if len(counts)<=1:\n",
    "                pass\n",
    "            else:\n",
    "                if val == 1:\n",
    "                    root.right=buildtree(subdataframe,depth-1)\n",
    "                else:\n",
    "                    root.left=buildtree(subdataframe,depth-1)\n",
    "    return root"
   ]
  },
  {
   "cell_type": "code",
   "execution_count": 43,
   "metadata": {},
   "outputs": [],
   "source": [
    "def buildtree_nodes(X_train,numberofnodes):\n",
    "    \n",
    "    if len(X_train.columns)==1:  \n",
    "        return \n",
    "    output=X_train.keys()[-1]\n",
    "    bestattr = find_winner(X_train)  \n",
    "    root=nodestructure(bestattr)\n",
    "    outputValue,counts = np.unique(X_train[output],return_counts=True)                        \n",
    "    if len(counts)<=1:   \n",
    "        if outputValue[0]==0:     \n",
    "            root.negative=counts[0]\n",
    "        else:\n",
    "            root.positive=counts[0]   \n",
    "            \n",
    "    else:       \n",
    "        if outputValue[0]==0:\n",
    "            root.negative=counts[0]\n",
    "        else:\n",
    "            root.positive=counts[0]\n",
    "        if outputValue[1]==0:\n",
    "            root.negative=counts[1]\n",
    "        else:\n",
    "            root.positive=counts[1]\n",
    "\n",
    "        if numberofnodes==0 : \n",
    "            return root\n",
    "        \n",
    "        attValue=X_train[bestattr].unique() \n",
    "        \n",
    "        for val in attValue:  \n",
    "            subdataframe = get_subtable(X_train,bestattr,val)                  \n",
    "            subdataframe=subdataframe.drop([bestattr],axis=1)\n",
    "            outputValue,counts = np.unique(subdataframe[output],return_counts=True)                        \n",
    "            if len(counts)<=1:\n",
    "                pass\n",
    "            else:\n",
    "                if val == 1:\n",
    "                    numberofnodes-=1\n",
    "                    if numberofnodes==0 : \n",
    "                        return root\n",
    "                    root.right=buildtree(subdataframe,numberofnodes-1)\n",
    "                    \n",
    "                else:\n",
    "                    numberofnodes-=1\n",
    "                    if numberofnodes==0 : \n",
    "                        return root\n",
    "                    root.left=buildtree(subdataframe,numberofnodes-1)\n",
    "                    \n",
    "    return root"
   ]
  },
  {
   "cell_type": "code",
   "execution_count": 44,
   "metadata": {},
   "outputs": [],
   "source": [
    "def height(root) :\n",
    "    if root == None :\n",
    "        return 0;\n",
    "    else :\n",
    "        return 1 + max(height(root.left),height(root.right))"
   ]
  },
  {
   "cell_type": "code",
   "execution_count": 46,
   "metadata": {},
   "outputs": [],
   "source": [
    "def testing(X_test,root):\n",
    "    \n",
    "    if root.left == None and root.right == None:\n",
    "        if root.positive>root.negative:\n",
    "            y_pred.append(1)\n",
    "        else:\n",
    "            y_pred.append(0)\n",
    "        return\n",
    "    \n",
    "    j = root.value\n",
    "    if j in X_test:\n",
    "        if X_test[j] == 1:\n",
    "            if root.right==None:\n",
    "                if root.positive>root.negative:\n",
    "                    y_pred.append(1)\n",
    "                else:\n",
    "                    y_pred.append(0)\n",
    "            else:\n",
    "                testing(X_test,root.right)\n",
    "        else:\n",
    "            if root.left==None:\n",
    "                if root.positive>root.negative:\n",
    "                    y_pred.append(1)\n",
    "                else:\n",
    "                    y_pred.append(0)\n",
    "            else:\n",
    "                testing(X_test,root.left)\n",
    "    else:\n",
    "        if root.left==None:\n",
    "            if root.positive>root.negative:\n",
    "                y_pred.append(1)\n",
    "            else:\n",
    "                y_pred.append(0)\n",
    "        else:\n",
    "            testing(X_test,root.left)"
   ]
  },
  {
   "cell_type": "code",
   "execution_count": 36,
   "metadata": {},
   "outputs": [],
   "source": [
    "def convert_to_binary(X_test):\n",
    "    for feature in numericalfeatures:\n",
    "        for index,row in X_test.iterrows():\n",
    "            if float(row[feature]) >= mid_point[feature]:\n",
    "                X_test.at[index,feature]=1\n",
    "            else:\n",
    "                X_test.at[index,feature]=0\n"
   ]
  },
  {
   "cell_type": "code",
   "execution_count": 47,
   "metadata": {},
   "outputs": [
    {
     "name": "stdout",
     "output_type": "stream",
     "text": [
      "2\n",
      "4\n",
      "6\n",
      "8\n",
      "10\n",
      "12\n",
      "14\n",
      "16\n",
      "18\n",
      "20\n"
     ]
    }
   ],
   "source": [
    "accuracytest = {}\n",
    "accuracytrain = {}\n",
    "for i in xrange(2,21,2):\n",
    "    print i\n",
    "    copyXtrain=copy.deepcopy(train)\n",
    "    copyXtest=copy.deepcopy(test)\n",
    "    for col in numericalfeatures:\n",
    "        for index,row in copyXtest.iterrows():\n",
    "                if float(row[col]) < mid_point[col]:\n",
    "                    copyXtest.at[index,col]=0\n",
    "                else:\n",
    "                    copyXtest.at[index,col]=1\n",
    "\n",
    "    for col in numericalfeatures:\n",
    "        for index,row in copyXtrain.iterrows():\n",
    "                if float(row[col]) < mid_point[col]:\n",
    "                    copyXtrain.at[index,col]=0\n",
    "                else:\n",
    "                    copyXtrain.at[index,col]=1\n",
    "\n",
    "    root = buildtree_nodes(copyXtrain,i)\n",
    "#     root =  buildtree_depth(copyXtrain,i)\n",
    "    \n",
    "    y_pred = []\n",
    "    for index,row in copyXtest.iterrows():\n",
    "        testing(row,root)\n",
    "    y_test=copyXtest['left']\n",
    "    accuracytest[i] = 1 - accuracy_score(y_test,y_pred)\n",
    "    \n",
    "    del y_pred[:]\n",
    "    for index,row in copyXtrain.iterrows():\n",
    "        testing(row,root)\n",
    "    y_train=copyXtrain['left']\n",
    "    accuracytrain[i] = 1 - accuracy_score(y_train,y_pred)\n"
   ]
  },
  {
   "cell_type": "code",
   "execution_count": 49,
   "metadata": {},
   "outputs": [
    {
     "name": "stdout",
     "output_type": "stream",
     "text": [
      "{2: 0.1774301675977653, 4: 0.16625698324022342, 6: 0.16547486033519554, 8: 0.16312849162011178, 10: 0.16212290502793292, 12: 0.1588826815642458, 14: 0.15541899441340778, 16: 0.14994413407821228, 18: 0.14994413407821228, 20: 0.14994413407821228}\n",
      "{2: 0.18618881118881114, 4: 0.1700174825174825, 6: 0.16826923076923073, 8: 0.16870629370629375, 10: 0.1647727272727273, 12: 0.16564685314685312, 14: 0.16346153846153844, 16: 0.1621503496503497, 18: 0.1621503496503497, 20: 0.1621503496503497}\n"
     ]
    },
    {
     "data": {
      "text/plain": [
       "Text(0.5,1,'nodes vs error')"
      ]
     },
     "execution_count": 49,
     "metadata": {},
     "output_type": "execute_result"
    },
    {
     "data": {
      "image/png": "[encoded data removed]",
      "text/plain": [
       "<Figure size 432x288 with 1 Axes>"
      ]
     },
     "metadata": {
      "needs_background": "light"
     },
     "output_type": "display_data"
    }
   ],
   "source": [
    "x_axis = [i for i in xrange(2,21,2)]\n",
    "print accuracytrain\n",
    "print accuracytest\n",
    "fig, ax = plt.subplots()\n",
    "ax.plot(x_axis, accuracytrain.values(), label=\"training error\", marker='o')\n",
    "ax.plot(x_axis, accuracytest.values(), label=\"testing error\", marker='o')\n",
    "ax.legend(loc=2) # upper left corner\n",
    "ax.set_xlabel(\"nodes\", fontsize=18)\n",
    "ax.set_ylabel(\"error\", fontsize=18)\n",
    "ax.set_title('nodes vs error')"
   ]
  }
 ],
 "metadata": {
  "kernelspec": {
   "display_name": "Python 2",
   "language": "python",
   "name": "python2"
  },
  "language_info": {
   "codemirror_mode": {
    "name": "ipython",
    "version": 2
   },
   "file_extension": ".py",
   "mimetype": "text/x-python",
   "name": "python",
   "nbconvert_exporter": "python",
   "pygments_lexer": "ipython2",
   "version": "2.7.15"
  }
 },
 "nbformat": 4,
 "nbformat_minor": 2
}
